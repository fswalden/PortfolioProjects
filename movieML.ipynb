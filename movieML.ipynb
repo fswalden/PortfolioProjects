{
 "cells": [
  {
   "cell_type": "code",
   "execution_count": 1,
   "id": "d5ec920b",
   "metadata": {},
   "outputs": [],
   "source": [
    "import pandas as pd\n",
    "import numpy as np\n",
    "\n",
    "credits = pd.read_csv(\"tmdb_5000_credits.csv\")\n",
    "movies = pd.read_csv(\"tmdb_5000_movies.csv\")"
   ]
  },
  {
   "cell_type": "code",
   "execution_count": 2,
   "id": "f06e1814",
   "metadata": {
    "scrolled": false
   },
   "outputs": [],
   "source": [
    "#credits.head()"
   ]
  },
  {
   "cell_type": "code",
   "execution_count": 3,
   "id": "d1813b20",
   "metadata": {
    "scrolled": true
   },
   "outputs": [],
   "source": [
    "#movies.head()"
   ]
  },
  {
   "cell_type": "code",
   "execution_count": 4,
   "id": "18147943",
   "metadata": {},
   "outputs": [
    {
     "name": "stdout",
     "output_type": "stream",
     "text": [
      "Credits:  (4803, 4)\n",
      "Movies:  (4803, 20)\n"
     ]
    }
   ],
   "source": [
    "print(\"Credits: \", credits.shape)\n",
    "print(\"Movies: \", movies.shape)"
   ]
  },
  {
   "cell_type": "code",
   "execution_count": 5,
   "id": "b46e1d69",
   "metadata": {},
   "outputs": [],
   "source": [
    "# Rename \"movie_id\" column to \"id\"\n",
    "credits_column_renamed = credits.rename(index=str, columns={\"movie_id\": \"id\"})\n",
    "\n",
    "# Merge the two data frames\n",
    "movies_merge = movies.merge(credits_column_renamed, on = 'id')\n",
    "\n",
    "#print(\"Merged: \", movies_merge.head())"
   ]
  },
  {
   "cell_type": "markdown",
   "id": "3d20bc1d",
   "metadata": {},
   "source": [
    "movies_merged.head()"
   ]
  },
  {
   "cell_type": "code",
   "execution_count": 6,
   "id": "8f87dfa5",
   "metadata": {},
   "outputs": [
    {
     "data": {
      "text/plain": [
       "(4803, 23)"
      ]
     },
     "execution_count": 6,
     "metadata": {},
     "output_type": "execute_result"
    }
   ],
   "source": [
    "movies_merge.shape"
   ]
  },
  {
   "cell_type": "code",
   "execution_count": 7,
   "id": "c9235363",
   "metadata": {},
   "outputs": [],
   "source": [
    "movies_cleaned = movies_merge.drop(columns=['homepage', 'title_x', 'title_y', 'status','production_countries'])\n",
    "#print(movies_cleaned.head())\n",
    "#print(movies_cleaned.info())\n",
    "#print(movies_cleaned.head(1)['overview'])"
   ]
  },
  {
   "cell_type": "code",
   "execution_count": 8,
   "id": "e915d1c4",
   "metadata": {},
   "outputs": [
    {
     "data": {
      "text/plain": [
       "(4803, 18)"
      ]
     },
     "execution_count": 8,
     "metadata": {},
     "output_type": "execute_result"
    }
   ],
   "source": [
    "movies_cleaned.shape"
   ]
  },
  {
   "cell_type": "code",
   "execution_count": 9,
   "id": "7ccad8cc",
   "metadata": {},
   "outputs": [],
   "source": [
    "# Prepare to analyze and match the contents of the 'Overview' column to recommend movies using TfidfVectorizer\n",
    "from sklearn.feature_extraction.text import TfidfVectorizer\n",
    "tfv = TfidfVectorizer(min_df=3,  max_features=None,\n",
    "            strip_accents='unicode', analyzer='word',token_pattern=r'\\w{1,}',\n",
    "            ngram_range=(1, 3),\n",
    "            stop_words = 'english')"
   ]
  },
  {
   "cell_type": "code",
   "execution_count": 10,
   "id": "84b0e0b7",
   "metadata": {},
   "outputs": [],
   "source": [
    "# Fit the TF-IDF onto the 'Overview' column\n",
    "tfv_matrix = tfv.fit_transform(movies_cleaned['overview'].values.astype('U'))\n",
    "#print(tfv_matrix)"
   ]
  },
  {
   "cell_type": "code",
   "execution_count": 11,
   "id": "a7457cf6",
   "metadata": {},
   "outputs": [],
   "source": [
    "#tfv_matrix.shape"
   ]
  },
  {
   "cell_type": "code",
   "execution_count": 12,
   "id": "5b460e29",
   "metadata": {},
   "outputs": [],
   "source": [
    "from sklearn.metrics.pairwise import sigmoid_kernel\n",
    "\n",
    "# Compute the sigmoid kernel\n",
    "sig = sigmoid_kernel(tfv_matrix, tfv_matrix)\n",
    "#print(sig[0])"
   ]
  },
  {
   "cell_type": "code",
   "execution_count": 13,
   "id": "3a9a9f32",
   "metadata": {},
   "outputs": [],
   "source": [
    "# Reverse mapping of indices and movie titles\n",
    "indices = pd.Series(movies_cleaned.index, index=movies_cleaned['original_title']).drop_duplicates()\n",
    "\n",
    "# Test indices accuracy\n",
    "#print(indices)\n",
    "#print(indices['Newlyweds'])\n",
    "#print(sig[4799])\n",
    "#print(list(enumerate(sig[indices['Newlyweds']])))\n",
    "#print(sorted(list(enumerate(sig[indices['Newlyweds']])), key=lambda x: x[1], reverse=True))"
   ]
  },
  {
   "cell_type": "code",
   "execution_count": 14,
   "id": "96d06f13",
   "metadata": {},
   "outputs": [],
   "source": [
    "def give_recommendations(movies, sig=sig):\n",
    "    sig_scores = []\n",
    "    for i in range(len(sig[0])):\n",
    "        sig_scores.append(0)\n",
    "    idxList = []\n",
    "    for title in movies:\n",
    "        # Get index corresponding to original title\n",
    "        idx = indices[title]\n",
    "        idxList.append(idx)\n",
    "        # Get the pairwise similarity scores\n",
    "        sig_scores_one = sig[idx]\n",
    "        # Add the scores to the aggregate list\n",
    "        for i in range(len(sig_scores_one)):\n",
    "            sig_scores[i] = sig_scores[i] + sig_scores_one[i]\n",
    "\n",
    "    sig_scores = list(enumerate(sig_scores))\n",
    "    # Sort the movies\n",
    "    sig_scores = sorted(sig_scores, key = lambda x: x[1], reverse = True)\n",
    "\n",
    "    # Get the top 10 matches\n",
    "    final_list = []\n",
    "    i = 0\n",
    "    while len(final_list) < 10:\n",
    "        isInList = False\n",
    "        for j in idxList:\n",
    "            if j == sig_scores[i][0]:\n",
    "                isInList = True\n",
    "                break;\n",
    "        if not isInList:\n",
    "            final_list.append(sig_scores[i])\n",
    "        i = i + 1\n",
    "        \n",
    "\n",
    "    # Map to movie indices\n",
    "    movie_indices = [i[0] for i in final_list]\n",
    "    \n",
    "    # Return top 10 most similar movies\n",
    "    return movies_cleaned['original_title'].iloc[movie_indices]"
   ]
  },
  {
   "cell_type": "code",
   "execution_count": 15,
   "id": "5408483a",
   "metadata": {},
   "outputs": [
    {
     "name": "stdout",
     "output_type": "stream",
     "text": [
      "Type in as many movie titles as you like. When you're ready to calculate recommendations, enter 'q'. \n",
      "\n",
      "Type a movie title ('q' to quit and get results) Avatar\n",
      "Type a movie title ('q' to quit and get results) q\n",
      "1341                Obitaemyy Ostrov\n",
      "634                       The Matrix\n",
      "3604                       Apollo 18\n",
      "2130                    The American\n",
      "775                        Supernova\n",
      "529                 Tears of the Sun\n",
      "151                          Beowulf\n",
      "311     The Adventures of Pluto Nash\n",
      "847                         Semi-Pro\n",
      "942                 The Book of Life\n",
      "Name: original_title, dtype: object\n"
     ]
    }
   ],
   "source": [
    "print(\"Type in as many movie titles as you like. When you're ready to calculate recommendations, enter 'q'. \")\n",
    "print()\n",
    "movies = []\n",
    "while(1):\n",
    "    textIn = input(\"Type a movie title ('q' to quit and get results) \")\n",
    "    if textIn == 'q' or textIn == 'Q':\n",
    "        break\n",
    "    if textIn in movies_cleaned['original_title'].unique():\n",
    "        movies.append(textIn)\n",
    "    else:\n",
    "        print(\"Title not valid. Try a different spelling. Otherwise, the database does not contain your title\")\n",
    "if len(movies) > 0:\n",
    "    print(give_recommendations(movies))\n",
    "else:\n",
    "    print(\"You did not enter any movies!\")\n"
   ]
  },
  {
   "cell_type": "code",
   "execution_count": null,
   "id": "c4b1ab8a",
   "metadata": {},
   "outputs": [],
   "source": []
  }
 ],
 "metadata": {
  "kernelspec": {
   "display_name": "Python 3",
   "language": "python",
   "name": "python3"
  },
  "language_info": {
   "codemirror_mode": {
    "name": "ipython",
    "version": 3
   },
   "file_extension": ".py",
   "mimetype": "text/x-python",
   "name": "python",
   "nbconvert_exporter": "python",
   "pygments_lexer": "ipython3",
   "version": "3.8.8"
  },
  "widgets": {
   "application/vnd.jupyter.widget-state+json": {
    "state": {},
    "version_major": 2,
    "version_minor": 0
   }
  }
 },
 "nbformat": 4,
 "nbformat_minor": 5
}
